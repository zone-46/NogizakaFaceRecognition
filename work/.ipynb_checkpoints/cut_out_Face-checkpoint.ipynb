{
 "cells": [
  {
   "cell_type": "markdown",
   "metadata": {},
   "source": [
    "# 顔認識ニューラルネットワーク用データセット生成プログラム\n",
    "#### (※)データセット生成には<font color=\"Red\">labelImg</font>が必要"
   ]
  },
  {
   "cell_type": "code",
   "execution_count": null,
   "metadata": {},
   "outputs": [],
   "source": [
    "import cv2\n",
    "import matplotlib.pyplot as plt\n",
    "import numpy as np\n",
    "import xml.etree.ElementTree as ET\n",
    "import os\n",
    "import os.path\n",
    "import shutil"
   ]
  },
  {
   "cell_type": "markdown",
   "metadata": {},
   "source": [
    "## 元画像から一人ずつ顔を切り出す"
   ]
  },
  {
   "cell_type": "code",
   "execution_count": null,
   "metadata": {},
   "outputs": [],
   "source": [
    "Face_list = open(\"/home/Nogizaka46/Face_list.txt\")\n",
    "# データリスト-----------------------------------------------------------\n",
    "# (中身)\n",
    "# /home/Nogizaka46/aaa\n",
    "# /home/Nogizaka46/bbb\n",
    "# /home/Nogizaka46/ccc\n",
    "# ・・・\n",
    "#\n",
    "# ファイル名の拡張子手前まで記述しているリストを読み取る\n",
    "# ------------------------------------------------------------------------\n",
    "\n",
    "# ファイル分類用連想配列の初期化------------------------------------------\n",
    "# key : クラス名\n",
    "# value : 枚数\n",
    "# ------------------------------------------------------------------------\n",
    "count_dict = {\n",
    "    # 'Maiyan':0, 'Naachan':0, 'Asuka':0 ,…\n",
    "}\n",
    "\n",
    "# ラベルリストを参照し繰り返す--------------------------------------------\n",
    "for line in Face_list:\n",
    "    # 改行文字の置換------------------------------------------------------\n",
    "    line = line.replace('\\n','')\n",
    "    \n",
    "    # ファイル指定--------------------------------------------------------\n",
    "    img_file = line+\".jpg\"\n",
    "    annotation_file = line+\".xml\"\n",
    "    \n",
    "    # 画像の読み込み------------------------------------------------------\n",
    "    image = cv2.imread(img_file)\n",
    "    \n",
    "    # xmlファイルから座標を取得-------------------------------------------    \n",
    "    xml = open(annotation_file)\n",
    "    tree = ET.parse(xml)\n",
    "    root = tree.getroot()\n",
    "    \n",
    "    xy_list = [] #　座標リスト\n",
    "    \n",
    "    for obj in root.iter('object') :\n",
    "        # 座標リストの格納-------------------------------------------------\n",
    "        # cls : クラス名\n",
    "        # b : 座標のリスト\n",
    "        # -----------------------------------------------------------------\n",
    "        cls = obj.find('name').text\n",
    "        xmlbox = obj.find('bndbox')\n",
    "        b = [int(xmlbox.find('xmin').text), \n",
    "             int(xmlbox.find('ymin').text), \n",
    "             int(xmlbox.find('xmax').text), \n",
    "             int(xmlbox.find('ymax').text)]\n",
    "        xy_list.append(b + [cls])\n",
    "    \n",
    "    # 座標リストから画像の生成---------------------------------------------\n",
    "    for i in range(len(xy_list)) :\n",
    "        \n",
    "        # 矩形領域の座標指定-----------------------------------------------\n",
    "        ymin = xy_list[i][1]\n",
    "        ymax = xy_list[i][3]\n",
    "        xmin = xy_list[i][0]\n",
    "        xmax = xy_list[i][2]\n",
    "        \n",
    "        # クラス名の指定---------------------------------------------------\n",
    "        name = xy_list[i][4]\n",
    "        \n",
    "        # 領域部分を切り取る-----------------------------------------------\n",
    "        split_image = image[ymin:ymax,xmin:xmax]\n",
    "        split_image = cv2.resize(split_image,(28,28))\n",
    "        \n",
    "        # クラスのディレクトリが無ければ生成-------------------------------\n",
    "        dir_name= \"/home/Nogizaka46/Face/\" + name +\"/\"\n",
    "        \n",
    "        if os.path.isdir(dir_name) == False :\n",
    "            os.mkdir(dir_name)\n",
    "        \n",
    "        # 画像の書き込み----------------------------------------------------\n",
    "        file_name = dir_name + str(count_dict[name]) + \".jpg\"\n",
    "        cv2.imwrite(file_name,split_image)\n",
    "        \n",
    "        # 枚数のカウント-----------------------------------------------------\n",
    "        count_dict[name] += 1"
   ]
  },
  {
   "cell_type": "code",
   "execution_count": null,
   "metadata": {},
   "outputs": [],
   "source": [
    "total = 0 # 合計枚数\n",
    "\n",
    "# 各クラスの画像枚数の出力 --------------------------------------------------\n",
    "for key, value in count_dict.items():\n",
    "    print(\"[\" + key + \"]\",value,\"枚\")\n",
    "    total += value\n",
    "\n",
    "# 全クラスの合計枚数の出力---------------------------------------------------\n",
    "print(\"現在 \"+str(total) + \" 枚\")"
   ]
  },
  {
   "cell_type": "markdown",
   "metadata": {},
   "source": [
    "## TrainとValidationファイルに分類"
   ]
  },
  {
   "cell_type": "code",
   "execution_count": null,
   "metadata": {},
   "outputs": [],
   "source": [
    "# ディレクトリ指定-----------------------------------------------------------\n",
    "# dir_name : 元画像のディレクトリ\n",
    "# train_dir : 訓練用データセットのディレクトリ\n",
    "# validation_dir : 検証用データセットのディレクトリ\n",
    "# ----------------------------------------------------------------------------\n",
    "dir_name = \"/home/Nogizaka46/Face/\"\n",
    "train_dir = \"/home/Nogizaka46/train/\"\n",
    "validation_dir = \"/home/Nogizaka46/validation/\"\n",
    "\n",
    "# ディレクトリがなければ生成する----------------------------------------------\n",
    "if os.path.isdir(train_dir) == False:\n",
    "    os.mkdir(train_dir)\n",
    "if os.path.isdir(validation_dir) == False:\n",
    "    os.mkdir(validation_dir)\n",
    "\n",
    "# 元画像のディレクトリを参照し繰り返す----------------------------------------\n",
    "for root, dirs, files in os.walk(dir_name):\n",
    "    for d in dirs :\n",
    "        # 走査するディレクトリの指定------------------------------------------\n",
    "        scanning_dir_name = dir_name+d+\"/\"\n",
    "        for root,dirs,files in os.walk(scanning_dir_name) :\n",
    "            i = 0 # 枚数カウント用\n",
    "            \n",
    "            # 画像ファイルを参照し繰り返す------------------------------------\n",
    "            for f in files :\n",
    "                # 全体の75%はTrain，残りの25%はValidationに分類---------------\n",
    "                if i/len(files) < 0.75 :\n",
    "                    mode = \"train/\"\n",
    "                else :\n",
    "                    mode = \"validation/\"\n",
    "                \n",
    "                # 訓練・検証ディレクトリにクラスディレクトリを生成------------\n",
    "                make_dir_name = \"/home/Nogizaka46/\" + mode + d + \"/\" \n",
    "                if os.path.isdir(make_dir_name) == False:\n",
    "                    os.mkdir(make_dir_name)\n",
    "                    \n",
    "                # 生成したディレクトリに元画像をコピー------------------------\n",
    "                file_name = make_dir_name + f\n",
    "                shutil.copyfile(scanning_dir_name + f, file_name)\n",
    "                \n",
    "                # 枚数カウントアップ-------------------------------------------\n",
    "                i += 1 "
   ]
  },
  {
   "cell_type": "markdown",
   "metadata": {},
   "source": [
    "# モデル構築"
   ]
  }
 ],
 "metadata": {
  "kernelspec": {
   "display_name": "Python 3",
   "language": "python",
   "name": "python3"
  },
  "language_info": {
   "codemirror_mode": {
    "name": "ipython",
    "version": 3
   },
   "file_extension": ".py",
   "mimetype": "text/x-python",
   "name": "python",
   "nbconvert_exporter": "python",
   "pygments_lexer": "ipython3",
   "version": "3.6.4"
  }
 },
 "nbformat": 4,
 "nbformat_minor": 2
}
